{
 "cells": [
  {
   "cell_type": "code",
   "execution_count": 1,
   "metadata": {},
   "outputs": [],
   "source": [
    "import numpy as np\n",
    "import matplotlib.pyplot as plt\n",
    "from matplotlib.patches import Wedge"
   ]
  },
  {
   "cell_type": "markdown",
   "metadata": {},
   "source": [
    "<font color=black size=4>\n",
    "\n",
    "# 第四章 留数定理\n",
    "    \n",
    "</font>"
   ]
  },
  {
   "cell_type": "markdown",
   "metadata": {},
   "source": [
    "<font color=blue size=4>\n",
    "\n",
    "## 1. (15分) 确定函数$\\displaystyle{f(z)=\\frac{1}{z^3-z^5}}$的奇点，求函数在各奇点的留数。\n",
    "\n",
    "</font>"
   ]
  },
  {
   "cell_type": "markdown",
   "metadata": {},
   "source": [
    "<font color=blue size=4>解：</font>\n",
    "<font color=black size=4>\n",
    "$$\n",
    "\\frac{1}{z^3-z^5} = \\frac{1}{z^3(1-z^2)} = \\frac{1}{z^3(1-z)(1+z)}\n",
    "$$\n",
    "分别当$z\\to 0$、$z\\to1$和$z\\to -1$时，函数$f(z)\\to\\infty$。因此$z=0$、$z=1$和$z=-1$分别是函数的三阶、一阶和一阶极点。</font>\n",
    "\n",
    "<font color=black size=4>1. 利用课本公式(4.1.13)\n",
    "$$\n",
    "\\begin{align*}\n",
    "\\mathrm{Res}\\,f(0) &= \\lim_{z\\to 0}\\frac{1}{2!}\\frac{\\mathrm{d}^2}{\\mathrm{d}z^2}\\left[ (z-0)^3\\cdot\\frac{1}{z^3-z^5} \\right] \\\\\n",
    " &= \\lim_{z\\to 0}\\frac{1}{2!}\\frac{\\mathrm{d}^2}{\\mathrm{d}z^2}\\left[ \\frac{1}{1-z^2} \\right]\\\\\n",
    " &= \\frac{1}{2}\\lim_{z\\to 0}{\\frac{\\mathrm{d}}{\\mathrm{d}z}\\left[\\frac{2z}{(1-z^2)^2}\\right]} \\\\\n",
    " &= \\frac{1}{2}\\lim_{z\\to 0}{\\left[\\frac{2}{(1-z^2)^2} + \\frac{8z^2}{(1-z^2)^3}\\right]} = 1\n",
    "\\end{align*}\n",
    "$$\n",
    "</font>\n",
    "\n",
    "<font color=black size=4>2.\n",
    "$$\n",
    "\\begin{align*}\n",
    "\\mathrm{Res}\\,f(1) &= \\lim_{z\\to 1}\\left[ (z-1)\\cdot\\frac{1}{z^3-z^5} \\right] \\\\\n",
    " &= \\lim_{z\\to 1}\\left[ \\frac{1}{z^3(1+z)-z^5} \\right] = -\\frac{1}{2}\n",
    "\\end{align*}\n",
    "$$\n",
    "</font>\n",
    "\n",
    "<font color=black size=4>3. \n",
    "$$\n",
    "\\begin{align*}\n",
    "\\mathrm{Res}\\,f(-1) &= \\lim_{z\\to -1}\\left[ (z+1)\\cdot\\frac{1}{z^3-z^5} \\right] = -\\frac{1}{2}\n",
    "\\end{align*}\n",
    "$$\n",
    "</font>"
   ]
  },
  {
   "cell_type": "markdown",
   "metadata": {},
   "source": [
    "<font color=blue size=4>\n",
    "    \n",
    "## 2. (15分) 确定函数$\\displaystyle{f(z)=\\frac{z^2}{(z^2+1)^2}}$的奇点，求函数在各奇点的留数。\n",
    "    \n",
    "</font>"
   ]
  },
  {
   "cell_type": "markdown",
   "metadata": {},
   "source": [
    "<font size=4 color=blue>解:</font>\n",
    "<font size=4 color=black>\n",
    "$$\n",
    "\\frac{z^2}{(z^2+1)^2} = \\frac{z^2}{(z^2-\\mathrm{i}^2)^2} = \\frac{z^2}{[(z+\\mathrm{i})(z-\\mathrm{i})]^2}\n",
    "$$\n",
    "$z=-\\mathrm{i}$和$z=\\mathrm{i}$均为二阶极点。\n",
    "</font>\n",
    "\n",
    "<font size=4 color=black>1. \n",
    "$$\n",
    "\\begin{align*}\n",
    "\\mathrm{Res}(-\\mathrm{i}) &= \\lim_{z\\to-\\mathrm{i}}\\frac{1}{1!}\\frac{\\mathrm{d}}{\\mathrm{d}z}{\\left[(z+\\mathrm{i})^2\\frac{z^2}{(z^2+1)^2}\\right]} = \\lim_{z\\to-\\mathrm{i}}\\frac{\\mathrm{d}}{\\mathrm{d}z}\\left[\\frac{z^2}{(z-\\mathrm{i})^2}\\right] \\\\\n",
    "&= \\lim_{z\\to-\\mathrm{i}}\\left[ \\frac{2z}{(z-\\mathrm{i})^2}-\\frac{2z^2}{(z-\\mathrm{i})^3} \\right] = \\frac{\\mathrm{i}}{4}\n",
    "\\end{align*}\n",
    "$$\n",
    "</font>\n",
    "\n",
    "<font size=4 color=black>2. \n",
    "$$\n",
    "\\begin{align*}\n",
    "\\mathrm{Res}(\\mathrm{i}) &= \\lim_{z\\to\\mathrm{i}}\\frac{1}{1!}\\frac{\\mathrm{d}}{\\mathrm{d}z}{\\left[(z-\\mathrm{i})^2\\frac{z^2}{(z^2+1)^2}\\right]} = \\lim_{z\\to\\mathrm{i}}\\frac{\\mathrm{d}}{\\mathrm{d}z}\\left[\\frac{z^2}{(z+\\mathrm{i})^2}\\right] \\\\\n",
    "&= \\lim_{z\\to\\mathrm{i}}\\left[ \\frac{2z}{(z+\\mathrm{i})^2}-\\frac{2z^2}{(z+\\mathrm{i})^3} \\right] = -\\frac{\\mathrm{i}}{4}\n",
    "\\end{align*}\n",
    "$$\n",
    "</font>"
   ]
  },
  {
   "cell_type": "markdown",
   "metadata": {},
   "source": [
    "<font color=blue size=4>\n",
    "    \n",
    "## 3. (15分) 计算回路积分$\\displaystyle{\\oint_l{\\frac{\\mathrm{d}z}{(z^2+1)(z-1)^2}}}$，其中$l$的方程是: $x^2+y^2-2x-2y=0$。\n",
    "    \n",
    "</font>"
   ]
  },
  {
   "cell_type": "markdown",
   "metadata": {},
   "source": [
    "<font size=4 color=blue>解:</font>\n",
    "\n",
    "<font size=4 color=black>\n",
    "\n",
    "$l$的方程可以改写为$(x-1)^2+(y-1)^2 = (\\sqrt{2})^2$。\n",
    "$$f(z) = \\frac{1}{(z^2+1)(z-1)^2} = \\frac{1}{(z+\\mathrm{i})(z-\\mathrm{i})(z-1)^2}$$\n",
    "\n",
    "因此$f(z)$的奇点为$\\pm\\mathrm{i}, 1$。\n",
    "\n",
    "</font>"
   ]
  },
  {
   "cell_type": "code",
   "execution_count": 2,
   "metadata": {},
   "outputs": [
    {
     "data": {
      "image/png": "[encoded data removed]",
      "text/plain": [
       "<Figure size 768x576 with 1 Axes>"
      ]
     },
     "metadata": {},
     "output_type": "display_data"
    }
   ],
   "source": [
    "fig, ax = plt.subplots(dpi=120)\n",
    "\n",
    "ax.spines[[\"left\", \"bottom\"]].set_position((\"data\", 0))\n",
    "ax.spines[[\"top\", \"right\"]].set_visible(False)\n",
    "ax.plot(1, 0, \">k\", transform=ax.get_yaxis_transform(), clip_on=False)\n",
    "ax.plot(0, 1, \"^k\", transform=ax.get_xaxis_transform(), clip_on=False)\n",
    "\n",
    "cc1 = plt.Circle((1.0,1.0), 2.0**0.5, color='red', lw=2, fill=False, zorder=5)\n",
    "ax.set_aspect(1)\n",
    "ax.add_artist(cc1)\n",
    "\n",
    "ax.scatter(0, 1, color='blue')\n",
    "ax.scatter(0,-1, color='blue')\n",
    "ax.scatter(1, 0, color='blue')\n",
    "ax.scatter(1, 1, color='green')\n",
    "\n",
    "ax.set_xlim(-1.0, 3)\n",
    "ax.set_ylim(-1.5, 3)\n",
    "ax.set_xticks([ 0, 1, 2])\n",
    "ax.set_yticks([-1, 1, 2])\n",
    "plt.show()"
   ]
  },
  {
   "cell_type": "markdown",
   "metadata": {},
   "source": [
    "<font color=black size=4>\n",
    "\n",
    "其中$\\mathrm{i}$和$1$在积分路径之内\n",
    "$$\n",
    "\\begin{align*}\n",
    "\\mathrm{Res}\\,f(\\mathrm{i}) &= \\lim_{z\\to\\mathrm{i}}\\frac{1}{(z+\\mathrm{i})(z-1)^2} = \\frac{1}{4} \\\\\n",
    "\\mathrm{Res}\\,f(1) &= \\lim_{z\\to 1}\\frac{\\mathrm{d}}{\\mathrm{d}z}\\left( \\frac{1}{z^2+1} \\right) = -\\frac{1}{2}\n",
    "\\end{align*}\n",
    "$$\n",
    "所以，原积分$=2\\pi\\mathrm{i}[\\mathrm{Res}\\,f(\\mathrm{i})+\\mathrm{Res}\\,f(1)] = -\\frac{\\pi\\mathrm{i}}{2}$\n",
    "\n",
    "</font>"
   ]
  },
  {
   "cell_type": "markdown",
   "metadata": {},
   "source": [
    "<font color=blue size=4>\n",
    "\n",
    "## 4. (15分) 计算回路积分$\\displaystyle{\\oint_{|z|=1}{\\frac{\\cos{z}}{z^3}\\mathrm{d}z}}$。\n",
    "\n",
    "</font>"
   ]
  },
  {
   "cell_type": "markdown",
   "metadata": {},
   "source": [
    "<font color=blue size=4>解：</font>\n",
    "\n",
    "<font color=black size=4>\n",
    "\n",
    "$f(x)$有三阶极点$z=0$，且在积分路径内。\n",
    "$$\n",
    "\\mathrm{Res}\\,f(0)=\\frac{1}{2!}\\lim_{z\\to 0}{\\frac{\\mathrm{d}^2}{\\mathrm{d}z^2}\\left[z^3\\cdot\\frac{\\cos{z}}{z^3}\\right]} = -\\frac{1}{2}\n",
    "$$\n",
    "原积分\n",
    "$$\n",
    "\\oint_{|z|=1}\\frac{\\cos{z}}{z^3}\\mathrm{d}z=2\\pi\\mathrm{i}\\cdot\\mathrm{Res}\\,f(0) = -\\pi\\mathrm{i}\n",
    "$$\n",
    "\n",
    "</font>"
   ]
  },
  {
   "cell_type": "markdown",
   "metadata": {},
   "source": [
    "<font color=blue size=4>\n",
    "    \n",
    "## 5. (20分) 计算下列实变函数的定积分：$\\displaystyle{\\int^{2\\pi}_0{\\frac{\\mathrm{d}x}{2+\\cos{x}}}}$。\n",
    "\n",
    "</font>"
   ]
  },
  {
   "cell_type": "markdown",
   "metadata": {},
   "source": [
    "<font color=blue size=4>解：</font>\n",
    "\n",
    "<font color=black size=4>\n",
    "\n",
    "本题是4.2节中的定积分类型一，可以按(4.2.2)式进行变换积分:\n",
    "$$\n",
    "z=e^{\\mathrm{i}x}, \\quad \\cos{x}=\\frac{1}{2}(z+z^{-1}), \\quad \\mathrm{d}x=\\frac{1}{\\mathrm{i}z}\\mathrm{d}z\n",
    "$$\n",
    "则本题的积分计算可以写为\n",
    "$$\n",
    "\\int^{2\\pi}_{0}{\\frac{\\mathrm{d}x}{2+\\cos{x}}} = \\oint_{|z|=1}{\\frac{2}{\\mathrm{i}}\\frac{\\mathrm{d}z}{z^2+4z+1}} = \\oint_{|z|=1}{\\frac{2}{\\mathrm{i}}\\frac{\\mathrm{d}z}{(z+2-\\sqrt{3})(z+2+\\sqrt{3})}} \n",
    "$$\n",
    "可以看出有两个一阶极点$z=-2+\\sqrt{3}$和 $z=-2-\\sqrt{3}$，其中$z=-2+\\sqrt{3}$在路径$|z|=1$内，计算留数\n",
    "$$\n",
    "\\mathrm{Res}\\,f(-2+\\sqrt{3}) = \\lim_{z\\to -2+\\sqrt{3}}\\left[(z+2-\\sqrt{3})\\cdot\\frac{1}{(z+2-\\sqrt{3})(z+2+\\sqrt{3})}\\right] = \\frac{1}{2\\sqrt{3}}\n",
    "$$\n",
    "所以根据留数定理，原积分可以写为 \n",
    "$$\n",
    "\\int^{2\\pi}_{0}{\\frac{\\mathrm{d}x}{2+\\cos{x}}} = \\oint_{|z|=1}{\\frac{2}{\\mathrm{i}}\\frac{\\mathrm{d}z}{z^2+4z+1}} = \\frac{2}{\\mathrm{i}}\\cdot 2\\pi\\mathrm{i}\\cdot\\frac{1}{2\\sqrt{3}} = \\frac{2\\pi}{\\sqrt{3}}\n",
    "$$\n",
    "\n",
    "</font>"
   ]
  },
  {
   "cell_type": "code",
   "execution_count": 3,
   "metadata": {},
   "outputs": [
    {
     "data": {
      "image/png": "[encoded data removed]",
      "text/plain": [
       "<Figure size 768x576 with 1 Axes>"
      ]
     },
     "metadata": {},
     "output_type": "display_data"
    }
   ],
   "source": [
    "fig, ax = plt.subplots(dpi=120)\n",
    "\n",
    "ax.spines[[\"left\", \"bottom\"]].set_position((\"data\", 0))\n",
    "ax.spines[[\"top\", \"right\"]].set_visible(False)\n",
    "ax.plot(1, 0, \">k\", transform=ax.get_yaxis_transform(), clip_on=False)\n",
    "ax.plot(0, 1, \"^k\", transform=ax.get_xaxis_transform(), clip_on=False)\n",
    "\n",
    "cc1 = plt.Circle((0.0,0.0), 1.0, color='red', lw=2, fill=False, zorder=5)\n",
    "ax.set_aspect(1)\n",
    "ax.add_artist(cc1)\n",
    "\n",
    "ax.scatter(-2+3.0**0.5, 0.0, color='blue')\n",
    "ax.scatter(-2-3.0**0.5, 0.0, color='blue')\n",
    "\n",
    "ax.set_xlim(-4,  1.5)\n",
    "ax.set_ylim(-1.5,1.5)\n",
    "ax.set_xticks([-4, -2, 0, 1])\n",
    "ax.set_yticks([-1, 1])\n",
    "plt.show()"
   ]
  },
  {
   "cell_type": "markdown",
   "metadata": {},
   "source": [
    "<font color=blue size=4>\n",
    "\n",
    "## 6. (20分) 计算下列实变函数的无穷积分：$\\displaystyle{\\int^\\infty_{-\\infty}{\\frac{x^2+1}{x^4+1}\\mathrm{d}x}}$。\n",
    "\n",
    "</font>"
   ]
  },
  {
   "cell_type": "markdown",
   "metadata": {},
   "source": [
    "<font color=blue size=4>解：</font>\n",
    "\n",
    "<font color=black size=4>\n",
    "\n",
    "$$\n",
    "f(z)=\\frac{z^2+1}{z^4+1} = \\frac{z^2+1}{\\left(z-e^{\\mathrm{i}\\frac{\\pi}{4}}\\right)\\left(z-e^{\\mathrm{i}\\frac{3\\pi}{4}}\\right)\\left(z-e^{\\mathrm{i}\\frac{5\\pi}{4}}\\right)\\left(z-e^{\\mathrm{i}\\frac{7\\pi}{4}}\\right)}\n",
    "$$\n",
    "其中位于上半平面的奇点是$z=e^{\\mathrm{i}\\frac{\\pi}{4}}$和$z=e^{\\mathrm{i}\\frac{3\\pi}{4}}$，它们的留数分别为\n",
    "$$\n",
    "\\mathrm{Res}f(e^{\\mathrm{i}\\frac{\\pi}{4}}) = \\lim_{z\\to e^{\\mathrm{i}\\frac{\\pi}{4}}} \\frac{z^2+1}{\\left(z-e^{\\mathrm{i}\\frac{3\\pi}{4}}\\right)\\left(z-e^{\\mathrm{i}\\frac{5\\pi}{4}}\\right)\\left(z-e^{\\mathrm{i}\\frac{7\\pi}{4}}\\right)} = -\\frac{\\mathrm{i}}{2\\sqrt{2}}\n",
    "$$\n",
    "$$\n",
    "\\mathrm{Res}f(e^{\\mathrm{i}\\frac{3\\pi}{4}}) = \\lim_{z\\to e^{\\mathrm{i}\\frac{3\\pi}{4}}}\\frac{z^2+1}{\\left(z-e^{\\mathrm{i}\\frac{\\pi}{4}}\\right)\\left(z-e^{\\mathrm{i}\\frac{5\\pi}{4}}\\right)\\left(z-e^{\\mathrm{i}\\frac{7\\pi}{4}}\\right)} = -\\frac{\\mathrm{i}}{2\\sqrt{2}}\n",
    "$$\n",
    "所以根据课本(4.2.6)式，\n",
    "$$\n",
    "\\int^\\infty_{-\\infty}{\\frac{x^2+1}{x^4+1}\\mathrm{d}x} = 2\\pi\\mathrm{i} \\left( -\\frac{i}{2\\sqrt{2}}-\\frac{i}{2\\sqrt{2}} \\right) = \\sqrt{2}\\pi\n",
    "$$\n",
    "\n",
    "</font>"
   ]
  },
  {
   "cell_type": "code",
   "execution_count": 4,
   "metadata": {},
   "outputs": [
    {
     "data": {
      "image/png": "[encoded data removed]",
      "text/plain": [
       "<Figure size 768x576 with 1 Axes>"
      ]
     },
     "metadata": {},
     "output_type": "display_data"
    }
   ],
   "source": [
    "fig, ax = plt.subplots(dpi=120)\n",
    "\n",
    "ax.spines[[\"left\", \"bottom\"]].set_position((\"data\", 0))\n",
    "ax.spines[[\"top\", \"right\"]].set_visible(False)\n",
    "ax.plot(1, 0, \">k\", transform=ax.get_yaxis_transform(), clip_on=False)\n",
    "ax.plot(0, 1, \"^k\", transform=ax.get_xaxis_transform(), clip_on=False)\n",
    "\n",
    "cc1 = plt.Circle((0.0,0.0), 1.0, color='red', lw=2, fill=False, zorder=5)\n",
    "ax.set_aspect(1)\n",
    "ax.add_artist(cc1)\n",
    "\n",
    "ax.scatter(np.cos(1*np.pi/4), np.sin(1*np.pi/4), color='blue', zorder=10)\n",
    "ax.scatter(np.cos(3*np.pi/4), np.sin(3*np.pi/4), color='blue', zorder=10)\n",
    "ax.scatter(np.cos(5*np.pi/4), np.sin(5*np.pi/4), color='blue', zorder=10)\n",
    "ax.scatter(np.cos(7*np.pi/4), np.sin(7*np.pi/4), color='blue', zorder=10)\n",
    "\n",
    "ax.set_xlim(-1.5,1.5)\n",
    "ax.set_ylim(-1.5,1.5)\n",
    "ax.set_xticks([-1, 0, 1])\n",
    "ax.set_yticks([-1, 1])\n",
    "plt.show()"
   ]
  }
 ],
 "metadata": {
  "kernelspec": {
   "display_name": "Python 3.10.6 ('default3')",
   "language": "python",
   "name": "python3"
  },
  "language_info": {
   "codemirror_mode": {
    "name": "ipython",
    "version": 3
   },
   "file_extension": ".py",
   "mimetype": "text/x-python",
   "name": "python",
   "nbconvert_exporter": "python",
   "pygments_lexer": "ipython3",
   "version": "3.10.6"
  },
  "orig_nbformat": 4,
  "vscode": {
   "interpreter": {
    "hash": "caf717c6d6b59f9807ff7eea9cf897ae89a88009285bb300657ae8049817c60c"
   }
  }
 },
 "nbformat": 4,
 "nbformat_minor": 2
}
