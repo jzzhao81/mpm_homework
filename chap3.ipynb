{
 "cells": [
  {
   "cell_type": "code",
   "execution_count": 1,
   "metadata": {},
   "outputs": [],
   "source": [
    "import numpy as np\n",
    "import matplotlib.pyplot as plt\n",
    "from matplotlib.patches import Wedge"
   ]
  },
  {
   "cell_type": "markdown",
   "metadata": {},
   "source": [
    "<font color=black size=4>\n",
    "    \n",
    "# 第三章 幂级数展开\n",
    "    \n",
    "</font>"
   ]
  },
  {
   "cell_type": "markdown",
   "metadata": {},
   "source": [
    "<font color=blue size=4>\n",
    "    \n",
    "## 1. (20 分） 求下列幂级数的收敛圆半径\n",
    "\n",
    "$$\n",
    "(1) \\sum^\\infty_{n=0}{\\left( \\frac{z}{n} \\right)^n}  \\qquad (2) \\sum^\\infty_{n=1}{\\frac{n!}{n^n}z^n}\n",
    "$$\n",
    "    \n",
    "</font>"
   ]
  },
  {
   "cell_type": "markdown",
   "metadata": {},
   "source": [
    "<font color=blue>解：</font>\n",
    "<font size=4 color=black>\n",
    "    \n",
    "(1) 系数为$n^{-n}$，可以用根值判别法\n",
    "    \n",
    "$$\n",
    "R = \\lim_{n\\to\\infty}\\frac{1}{|a_n|^{\\frac{1}{n}}} = \\lim_{n\\to\\infty}\\frac{1}{|n^{-n}|^{\\frac{1}{n}}} = \\lim_{n\\to\\infty} n = \\infty\n",
    "$$\n",
    "    \n",
    "(2) 系数为$\\frac{n!}{n^n}$，考虑使用比值判别法\n",
    "    \n",
    "$$\n",
    "R = \\lim_{n\\to\\infty} \\left| \\frac{a_n}{a_{n+1}} \\right| = \\lim_{n\\to\\infty} \\frac{n!(n+1)^{n+1}}{(n+1)!n^n} = \\lim_{n\\to\\infty} \\frac{(n+1)^n}{n^n} = \\lim_{n\\to\\infty} \\left(1+\\frac{1}{n}\\right)^n = e\n",
    "$$\n",
    "</font>"
   ]
  },
  {
   "cell_type": "markdown",
   "metadata": {},
   "source": [
    "<font color=blue size=4>\n",
    "    \n",
    "## 2. (30 分） 以$z_0=0$为中心，分别将$\\sin{z}$、$\\cos{z}$、$e^{\\mathrm{i}z}$展开为泰勒级数，并证明欧拉公式：$e^{\\mathrm{i}z} = \\cos{z}+\\mathrm{i}\\cos{z}$，这里$z$为有界实数或复数。\n",
    "    \n",
    "</font>"
   ]
  },
  {
   "cell_type": "markdown",
   "metadata": {},
   "source": [
    "<font color=blue>解：</font>\n",
    "\n",
    "<font size=4 color=black>\n",
    "\n",
    "泰勒展开公式为\n",
    "\n",
    "<font color=red size=4>\n",
    "\n",
    "$$\n",
    "f(z) = \\sum^\\infty_{n=0}{\\frac{f^{(n)}(z_0)}{n!}(z-z_0)^n}\n",
    "$$\n",
    "\n",
    "</font>\n",
    "    \n",
    "当展开中心为$z_0=0$时\n",
    "\n",
    "<font color=red size=4>\n",
    "\n",
    "$$\n",
    "f(z) = \\sum^\\infty_{n=0}{\\frac{f^{(n)}(0)}{n!}(z)^n}\n",
    "$$\n",
    "\n",
    "</font>\n",
    "\n",
    "同时，\n",
    "    \n",
    "$$\n",
    "\\sin'{z} = \\cos{z}, \\quad \\sin''{z} = -\\sin{z}, \\quad \\sin^{(3)}{z}=-\\cos{z}, \\quad \\sin^{(4)}{z}=\\sin{z},\\ldots; \\\\\n",
    "\\cos'{z} = -\\sin{z}, \\quad \\cos''{z} = -\\cos{z}, \\quad \\cos^{(3)}{z}=\\sin{z}, \\quad \\cos^{(4)}{z}=\\cos{z},\\ldots; \\\\\n",
    "(e^{\\mathrm{i}z})' = \\mathrm{i}e^{\\mathrm{i}z}, \\quad (e^{\\mathrm{i}z})'' = -e^{\\mathrm{i}z}, \\quad (e^{\\mathrm{i}z})^{(3)} = -\\mathrm{i}e^{\\mathrm{i}z}, \\quad (e^{\\mathrm{i}z})^{(4)} = e^{\\mathrm{i}z}\n",
    "$$\n",
    "\n",
    "所以本题中各式做泰勒展开为：\n",
    "    \n",
    "$$\n",
    "\\begin{array}{rl}\n",
    "\\sin{z} &= \\frac{z}{1!}-\\frac{z^3}{3!} + \\frac{z^5}{5!} - \\frac{z^7}{7!} + \\ldots; \\\\\n",
    "\\cos{z} &= 1-\\frac{z^2}{2!} + \\frac{z^4}{4!} - \\frac{z^6}{6!} + \\ldots; \\\\\n",
    "e^{\\mathrm{i}z} & = 1 + \\frac{\\mathrm{i}z}{1!} - \\frac{z^2}{2!} - \\frac{\\mathrm{i}z^3}{3!} + \\frac{z^4}{4!} + \\frac{\\mathrm{i}z^5}{5!} - \\frac{z^6}{6!} - \\frac{\\mathrm{i}z^7}{7!} + \\frac{z^8}{8!} + \\ldots \\\\\n",
    "        &= \\left( 1-\\frac{z^2}{2!}+\\frac{z^4}{4!}-\\frac{z^6}{6!}+\\frac{z^8}{8!}+\\ldots \\right) + \\mathrm{i}\\left( \\frac{z}{1!} -\\frac{z^3}{3!} + \\frac{z^5}{5!} - \\frac{z^7}{7!} +\\ldots \\right) \\\\\n",
    "        & = \\cos{z} + \\mathrm{i}\\sin{z}\n",
    "\\end{array}\n",
    "$$\n",
    "    \n",
    "</font>"
   ]
  },
  {
   "cell_type": "markdown",
   "metadata": {},
   "source": [
    "<font color=blue size=4>\n",
    "    \n",
    "## 3. (50分) 函数$f(z)=\\frac{1}{(z-1)(z-2)}$\n",
    "\n",
    "(1) 指出函数的奇点；\n",
    "\n",
    "(2) 以$z=0$为中心，分别在区域$|z|<1$、$1<|z|<2$、$2<|z|$上展开为级数；\n",
    "\n",
    "(3) 以$z=2$为中心，分别在区域$|z-2|<1$、$1<|z-2|$上展开为级数。\n",
    "    \n",
    "</font>"
   ]
  },
  {
   "cell_type": "markdown",
   "metadata": {},
   "source": [
    "<font color=blue>解：</font>\n",
    "\n",
    "<font size=4 color=black>\n",
    "\n",
    "$$\n",
    "f(z) = \\frac{1}{(z-1)(z-2)} = \\frac{1}{z-2} - \\frac{1}{z-1}\n",
    "$$\n",
    "可以看出，该函数的奇点有两个: $z=1$和$z=2$。\n",
    "    \n",
    "(2) 以$z=0$为中心\n",
    "    \n",
    "在区域$|z|<1$展开，\n",
    "$$\n",
    "f(z) = \\frac{1}{z-2} - \\frac{1}{z-1} = -\\frac{1}{2}\\frac{1}{1-\\frac{z}{2}} + \\frac{1}{1-z} = -\\frac{1}{2}\\sum^\\infty_{n=0} \\left( \\frac{z}{2} \\right)^n + \\sum^\\infty_{n=0} z^n = \\sum^\\infty_{n=0}\\left( 1-\\frac{1}{2^{n+1}} \\right)z^n\n",
    "$$\n",
    "    \n",
    "在区域$1<|z|<2$展开，\n",
    "$$\n",
    "f(z) = \\frac{1}{z-2} - \\frac{1}{z-1} = -\\frac{1}{2}\\frac{1}{1-\\frac{z}{2}} - \\frac{1}{z}\\frac{1}{1-\\frac{1}{z}} = -\\frac{1}{2}\\sum^\\infty_{n=0} \\left( \\frac{z}{2} \\right)^n - \\frac{1}{z}\\sum^\\infty_{n=0}\\left( \\frac{1}{z} \\right)^n = -\\sum^\\infty_{n=0}\\frac{z^n}{2^{n+1}} - \\sum^\\infty_{n=0} \\frac{1}{z^{n+1}}\n",
    "$$\n",
    "    \n",
    "在区域$|z|>2$展开，\n",
    "$$\n",
    "f(z) = \\frac{1}{z-2} - \\frac{1}{z-1} = \\frac{1}{z}\\frac{1}{1-\\frac{2}{z}} - \\frac{1}{z}\\frac{1}{1-\\frac{1}{z}} =\n",
    "\\frac{1}{z}\\sum^\\infty_{n=0}\\left( \\frac{2}{z} \\right)^n - \\frac{1}{z}\\sum^\\infty_{n=0}\\left( \\frac{1}{z} \\right)^n =\n",
    "\\sum^\\infty_{n=0} (2^n-1) \\left(\\frac{1}{z} \\right)^{n+1}\n",
    "$$\n",
    "    \n",
    "(3) 以$z=2$为中心\n",
    "    \n",
    "在区域$|z-2|<1$上展开为级数，\n",
    "$$\n",
    "f(z) = \\frac{1}{z-2} - \\frac{1}{z-1} = \\frac{1}{z-2} - \\frac{1}{1-[-(z-2)]} = \\frac{1}{z-2} - \\sum^\\infty_{n=0}\\left[ -(z-2) \\right]^n\n",
    "$$\n",
    "    \n",
    "在区域$1<|z-2|$上展开为级数，\n",
    "$$\n",
    "f(z) = \\frac{1}{z-2} - \\frac{1}{z-1} = \\frac{1}{z-2} - \\frac{1}{z-2}\\frac{1}{1+\\frac{1}{z-2}} = \\frac{1}{z-2}-\\frac{1}{z-2}\\frac{1}{1-\\left(-\\frac{1}{z-2}\\right)} = \\frac{1}{z-2} - \\frac{1}{z-2}\\sum^\\infty_{n=0}\\left(-\\frac{1}{z-2} \\right)^n \n",
    "$$\n",
    "\n",
    "</font>"
   ]
  }
 ],
 "metadata": {
  "kernelspec": {
   "display_name": "Python 3.10.6 ('default3')",
   "language": "python",
   "name": "python3"
  },
  "language_info": {
   "codemirror_mode": {
    "name": "ipython",
    "version": 3
   },
   "file_extension": ".py",
   "mimetype": "text/x-python",
   "name": "python",
   "nbconvert_exporter": "python",
   "pygments_lexer": "ipython3",
   "version": "3.10.6"
  },
  "orig_nbformat": 4,
  "vscode": {
   "interpreter": {
    "hash": "caf717c6d6b59f9807ff7eea9cf897ae89a88009285bb300657ae8049817c60c"
   }
  }
 },
 "nbformat": 4,
 "nbformat_minor": 2
}
